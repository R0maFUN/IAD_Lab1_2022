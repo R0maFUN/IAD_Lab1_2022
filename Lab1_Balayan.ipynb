{
  "nbformat": 4,
  "nbformat_minor": 0,
  "metadata": {
    "kernelspec": {
      "display_name": "Python 3",
      "language": "python",
      "name": "python3"
    },
    "language_info": {
      "codemirror_mode": {
        "name": "ipython",
        "version": 3
      },
      "file_extension": ".py",
      "mimetype": "text/x-python",
      "name": "python",
      "nbconvert_exporter": "python",
      "pygments_lexer": "ipython3",
      "version": "3.8.5"
    },
    "colab": {
      "name": "seminar_torch.ipynb",
      "provenance": [],
      "collapsed_sections": []
    },
    "widgets": {
      "application/vnd.jupyter.widget-state+json": {
        "3a34a95aa682439fbce7c40ac232bfa3": {
          "model_module": "@jupyter-widgets/controls",
          "model_name": "HBoxModel",
          "model_module_version": "1.5.0",
          "state": {
            "_view_name": "HBoxView",
            "_dom_classes": [],
            "_model_name": "HBoxModel",
            "_view_module": "@jupyter-widgets/controls",
            "_model_module_version": "1.5.0",
            "_view_count": null,
            "_view_module_version": "1.5.0",
            "box_style": "",
            "layout": "IPY_MODEL_30902776c0564143a69d7b6ebf0fe9b9",
            "_model_module": "@jupyter-widgets/controls",
            "children": [
              "IPY_MODEL_b5308c327f5c4395852638002e93312a",
              "IPY_MODEL_1c6445766414415e99ac32fb94686dca"
            ]
          }
        },
        "30902776c0564143a69d7b6ebf0fe9b9": {
          "model_module": "@jupyter-widgets/base",
          "model_name": "LayoutModel",
          "model_module_version": "1.2.0",
          "state": {
            "_view_name": "LayoutView",
            "grid_template_rows": null,
            "right": null,
            "justify_content": null,
            "_view_module": "@jupyter-widgets/base",
            "overflow": null,
            "_model_module_version": "1.2.0",
            "_view_count": null,
            "flex_flow": null,
            "width": null,
            "min_width": null,
            "border": null,
            "align_items": null,
            "bottom": null,
            "_model_module": "@jupyter-widgets/base",
            "top": null,
            "grid_column": null,
            "overflow_y": null,
            "overflow_x": null,
            "grid_auto_flow": null,
            "grid_area": null,
            "grid_template_columns": null,
            "flex": null,
            "_model_name": "LayoutModel",
            "justify_items": null,
            "grid_row": null,
            "max_height": null,
            "align_content": null,
            "visibility": null,
            "align_self": null,
            "height": null,
            "min_height": null,
            "padding": null,
            "grid_auto_rows": null,
            "grid_gap": null,
            "max_width": null,
            "order": null,
            "_view_module_version": "1.2.0",
            "grid_template_areas": null,
            "object_position": null,
            "object_fit": null,
            "grid_auto_columns": null,
            "margin": null,
            "display": null,
            "left": null
          }
        },
        "b5308c327f5c4395852638002e93312a": {
          "model_module": "@jupyter-widgets/controls",
          "model_name": "FloatProgressModel",
          "model_module_version": "1.5.0",
          "state": {
            "_view_name": "ProgressView",
            "style": "IPY_MODEL_7b79ef9602d041acada88a1e3e75fa7f",
            "_dom_classes": [],
            "description": "",
            "_model_name": "FloatProgressModel",
            "bar_style": "success",
            "max": 1721,
            "_view_module": "@jupyter-widgets/controls",
            "_model_module_version": "1.5.0",
            "value": 1721,
            "_view_count": null,
            "_view_module_version": "1.5.0",
            "orientation": "horizontal",
            "min": 0,
            "description_tooltip": null,
            "_model_module": "@jupyter-widgets/controls",
            "layout": "IPY_MODEL_df3fe642b3184ce89286cd052f047cbd"
          }
        },
        "1c6445766414415e99ac32fb94686dca": {
          "model_module": "@jupyter-widgets/controls",
          "model_name": "HTMLModel",
          "model_module_version": "1.5.0",
          "state": {
            "_view_name": "HTMLView",
            "style": "IPY_MODEL_d32c4d65bc164e30aca844c670363ae3",
            "_dom_classes": [],
            "description": "",
            "_model_name": "HTMLModel",
            "placeholder": "​",
            "_view_module": "@jupyter-widgets/controls",
            "_model_module_version": "1.5.0",
            "value": " 1722/? [01:36&lt;00:00, 17.78it/s]",
            "_view_count": null,
            "_view_module_version": "1.5.0",
            "description_tooltip": null,
            "_model_module": "@jupyter-widgets/controls",
            "layout": "IPY_MODEL_995b4b20bd094ab4b5a3d2027c45fdca"
          }
        },
        "7b79ef9602d041acada88a1e3e75fa7f": {
          "model_module": "@jupyter-widgets/controls",
          "model_name": "ProgressStyleModel",
          "model_module_version": "1.5.0",
          "state": {
            "_view_name": "StyleView",
            "_model_name": "ProgressStyleModel",
            "description_width": "initial",
            "_view_module": "@jupyter-widgets/base",
            "_model_module_version": "1.5.0",
            "_view_count": null,
            "_view_module_version": "1.2.0",
            "bar_color": null,
            "_model_module": "@jupyter-widgets/controls"
          }
        },
        "df3fe642b3184ce89286cd052f047cbd": {
          "model_module": "@jupyter-widgets/base",
          "model_name": "LayoutModel",
          "model_module_version": "1.2.0",
          "state": {
            "_view_name": "LayoutView",
            "grid_template_rows": null,
            "right": null,
            "justify_content": null,
            "_view_module": "@jupyter-widgets/base",
            "overflow": null,
            "_model_module_version": "1.2.0",
            "_view_count": null,
            "flex_flow": null,
            "width": null,
            "min_width": null,
            "border": null,
            "align_items": null,
            "bottom": null,
            "_model_module": "@jupyter-widgets/base",
            "top": null,
            "grid_column": null,
            "overflow_y": null,
            "overflow_x": null,
            "grid_auto_flow": null,
            "grid_area": null,
            "grid_template_columns": null,
            "flex": null,
            "_model_name": "LayoutModel",
            "justify_items": null,
            "grid_row": null,
            "max_height": null,
            "align_content": null,
            "visibility": null,
            "align_self": null,
            "height": null,
            "min_height": null,
            "padding": null,
            "grid_auto_rows": null,
            "grid_gap": null,
            "max_width": null,
            "order": null,
            "_view_module_version": "1.2.0",
            "grid_template_areas": null,
            "object_position": null,
            "object_fit": null,
            "grid_auto_columns": null,
            "margin": null,
            "display": null,
            "left": null
          }
        },
        "d32c4d65bc164e30aca844c670363ae3": {
          "model_module": "@jupyter-widgets/controls",
          "model_name": "DescriptionStyleModel",
          "model_module_version": "1.5.0",
          "state": {
            "_view_name": "StyleView",
            "_model_name": "DescriptionStyleModel",
            "description_width": "",
            "_view_module": "@jupyter-widgets/base",
            "_model_module_version": "1.5.0",
            "_view_count": null,
            "_view_module_version": "1.2.0",
            "_model_module": "@jupyter-widgets/controls"
          }
        },
        "995b4b20bd094ab4b5a3d2027c45fdca": {
          "model_module": "@jupyter-widgets/base",
          "model_name": "LayoutModel",
          "model_module_version": "1.2.0",
          "state": {
            "_view_name": "LayoutView",
            "grid_template_rows": null,
            "right": null,
            "justify_content": null,
            "_view_module": "@jupyter-widgets/base",
            "overflow": null,
            "_model_module_version": "1.2.0",
            "_view_count": null,
            "flex_flow": null,
            "width": null,
            "min_width": null,
            "border": null,
            "align_items": null,
            "bottom": null,
            "_model_module": "@jupyter-widgets/base",
            "top": null,
            "grid_column": null,
            "overflow_y": null,
            "overflow_x": null,
            "grid_auto_flow": null,
            "grid_area": null,
            "grid_template_columns": null,
            "flex": null,
            "_model_name": "LayoutModel",
            "justify_items": null,
            "grid_row": null,
            "max_height": null,
            "align_content": null,
            "visibility": null,
            "align_self": null,
            "height": null,
            "min_height": null,
            "padding": null,
            "grid_auto_rows": null,
            "grid_gap": null,
            "max_width": null,
            "order": null,
            "_view_module_version": "1.2.0",
            "grid_template_areas": null,
            "object_position": null,
            "object_fit": null,
            "grid_auto_columns": null,
            "margin": null,
            "display": null,
            "left": null
          }
        },
        "6505bbb46d7f4ffa9794fde8861cd8fb": {
          "model_module": "@jupyter-widgets/controls",
          "model_name": "HBoxModel",
          "model_module_version": "1.5.0",
          "state": {
            "_view_name": "HBoxView",
            "_dom_classes": [],
            "_model_name": "HBoxModel",
            "_view_module": "@jupyter-widgets/controls",
            "_model_module_version": "1.5.0",
            "_view_count": null,
            "_view_module_version": "1.5.0",
            "box_style": "",
            "layout": "IPY_MODEL_03bbe0d4b0524a85be49a1b119aaa66a",
            "_model_module": "@jupyter-widgets/controls",
            "children": [
              "IPY_MODEL_0f5b3da7508f461595456f1316465dae",
              "IPY_MODEL_b6d38ddc1e4948c9b98a6d79c18cd5a5"
            ]
          }
        },
        "03bbe0d4b0524a85be49a1b119aaa66a": {
          "model_module": "@jupyter-widgets/base",
          "model_name": "LayoutModel",
          "model_module_version": "1.2.0",
          "state": {
            "_view_name": "LayoutView",
            "grid_template_rows": null,
            "right": null,
            "justify_content": null,
            "_view_module": "@jupyter-widgets/base",
            "overflow": null,
            "_model_module_version": "1.2.0",
            "_view_count": null,
            "flex_flow": null,
            "width": null,
            "min_width": null,
            "border": null,
            "align_items": null,
            "bottom": null,
            "_model_module": "@jupyter-widgets/base",
            "top": null,
            "grid_column": null,
            "overflow_y": null,
            "overflow_x": null,
            "grid_auto_flow": null,
            "grid_area": null,
            "grid_template_columns": null,
            "flex": null,
            "_model_name": "LayoutModel",
            "justify_items": null,
            "grid_row": null,
            "max_height": null,
            "align_content": null,
            "visibility": null,
            "align_self": null,
            "height": null,
            "min_height": null,
            "padding": null,
            "grid_auto_rows": null,
            "grid_gap": null,
            "max_width": null,
            "order": null,
            "_view_module_version": "1.2.0",
            "grid_template_areas": null,
            "object_position": null,
            "object_fit": null,
            "grid_auto_columns": null,
            "margin": null,
            "display": null,
            "left": null
          }
        },
        "0f5b3da7508f461595456f1316465dae": {
          "model_module": "@jupyter-widgets/controls",
          "model_name": "FloatProgressModel",
          "model_module_version": "1.5.0",
          "state": {
            "_view_name": "ProgressView",
            "style": "IPY_MODEL_b2b39e59a46a4338bc75afd376e69931",
            "_dom_classes": [],
            "description": "",
            "_model_name": "FloatProgressModel",
            "bar_style": "success",
            "max": 1721,
            "_view_module": "@jupyter-widgets/controls",
            "_model_module_version": "1.5.0",
            "value": 1721,
            "_view_count": null,
            "_view_module_version": "1.5.0",
            "orientation": "horizontal",
            "min": 0,
            "description_tooltip": null,
            "_model_module": "@jupyter-widgets/controls",
            "layout": "IPY_MODEL_b680fa64dc604e6d94697242310428e9"
          }
        },
        "b6d38ddc1e4948c9b98a6d79c18cd5a5": {
          "model_module": "@jupyter-widgets/controls",
          "model_name": "HTMLModel",
          "model_module_version": "1.5.0",
          "state": {
            "_view_name": "HTMLView",
            "style": "IPY_MODEL_4722c85bb02b4291a90e6402d86397fa",
            "_dom_classes": [],
            "description": "",
            "_model_name": "HTMLModel",
            "placeholder": "​",
            "_view_module": "@jupyter-widgets/controls",
            "_model_module_version": "1.5.0",
            "value": " 1722/? [01:36&lt;00:00, 17.82it/s]",
            "_view_count": null,
            "_view_module_version": "1.5.0",
            "description_tooltip": null,
            "_model_module": "@jupyter-widgets/controls",
            "layout": "IPY_MODEL_c34336639978471f8e0f6aa78e1955ff"
          }
        },
        "b2b39e59a46a4338bc75afd376e69931": {
          "model_module": "@jupyter-widgets/controls",
          "model_name": "ProgressStyleModel",
          "model_module_version": "1.5.0",
          "state": {
            "_view_name": "StyleView",
            "_model_name": "ProgressStyleModel",
            "description_width": "initial",
            "_view_module": "@jupyter-widgets/base",
            "_model_module_version": "1.5.0",
            "_view_count": null,
            "_view_module_version": "1.2.0",
            "bar_color": null,
            "_model_module": "@jupyter-widgets/controls"
          }
        },
        "b680fa64dc604e6d94697242310428e9": {
          "model_module": "@jupyter-widgets/base",
          "model_name": "LayoutModel",
          "model_module_version": "1.2.0",
          "state": {
            "_view_name": "LayoutView",
            "grid_template_rows": null,
            "right": null,
            "justify_content": null,
            "_view_module": "@jupyter-widgets/base",
            "overflow": null,
            "_model_module_version": "1.2.0",
            "_view_count": null,
            "flex_flow": null,
            "width": null,
            "min_width": null,
            "border": null,
            "align_items": null,
            "bottom": null,
            "_model_module": "@jupyter-widgets/base",
            "top": null,
            "grid_column": null,
            "overflow_y": null,
            "overflow_x": null,
            "grid_auto_flow": null,
            "grid_area": null,
            "grid_template_columns": null,
            "flex": null,
            "_model_name": "LayoutModel",
            "justify_items": null,
            "grid_row": null,
            "max_height": null,
            "align_content": null,
            "visibility": null,
            "align_self": null,
            "height": null,
            "min_height": null,
            "padding": null,
            "grid_auto_rows": null,
            "grid_gap": null,
            "max_width": null,
            "order": null,
            "_view_module_version": "1.2.0",
            "grid_template_areas": null,
            "object_position": null,
            "object_fit": null,
            "grid_auto_columns": null,
            "margin": null,
            "display": null,
            "left": null
          }
        },
        "4722c85bb02b4291a90e6402d86397fa": {
          "model_module": "@jupyter-widgets/controls",
          "model_name": "DescriptionStyleModel",
          "model_module_version": "1.5.0",
          "state": {
            "_view_name": "StyleView",
            "_model_name": "DescriptionStyleModel",
            "description_width": "",
            "_view_module": "@jupyter-widgets/base",
            "_model_module_version": "1.5.0",
            "_view_count": null,
            "_view_module_version": "1.2.0",
            "_model_module": "@jupyter-widgets/controls"
          }
        },
        "c34336639978471f8e0f6aa78e1955ff": {
          "model_module": "@jupyter-widgets/base",
          "model_name": "LayoutModel",
          "model_module_version": "1.2.0",
          "state": {
            "_view_name": "LayoutView",
            "grid_template_rows": null,
            "right": null,
            "justify_content": null,
            "_view_module": "@jupyter-widgets/base",
            "overflow": null,
            "_model_module_version": "1.2.0",
            "_view_count": null,
            "flex_flow": null,
            "width": null,
            "min_width": null,
            "border": null,
            "align_items": null,
            "bottom": null,
            "_model_module": "@jupyter-widgets/base",
            "top": null,
            "grid_column": null,
            "overflow_y": null,
            "overflow_x": null,
            "grid_auto_flow": null,
            "grid_area": null,
            "grid_template_columns": null,
            "flex": null,
            "_model_name": "LayoutModel",
            "justify_items": null,
            "grid_row": null,
            "max_height": null,
            "align_content": null,
            "visibility": null,
            "align_self": null,
            "height": null,
            "min_height": null,
            "padding": null,
            "grid_auto_rows": null,
            "grid_gap": null,
            "max_width": null,
            "order": null,
            "_view_module_version": "1.2.0",
            "grid_template_areas": null,
            "object_position": null,
            "object_fit": null,
            "grid_auto_columns": null,
            "margin": null,
            "display": null,
            "left": null
          }
        },
        "a2b99faed0f54678811698f312ed80a4": {
          "model_module": "@jupyter-widgets/controls",
          "model_name": "HBoxModel",
          "model_module_version": "1.5.0",
          "state": {
            "_view_name": "HBoxView",
            "_dom_classes": [],
            "_model_name": "HBoxModel",
            "_view_module": "@jupyter-widgets/controls",
            "_model_module_version": "1.5.0",
            "_view_count": null,
            "_view_module_version": "1.5.0",
            "box_style": "",
            "layout": "IPY_MODEL_df9c2a9f3fe04519853a361700e3c056",
            "_model_module": "@jupyter-widgets/controls",
            "children": [
              "IPY_MODEL_421c51a1bf9d4be4ad8c445ad5c6fce8",
              "IPY_MODEL_73e5ea94ed2c45f5b25d1281f66b59bf"
            ]
          }
        },
        "df9c2a9f3fe04519853a361700e3c056": {
          "model_module": "@jupyter-widgets/base",
          "model_name": "LayoutModel",
          "model_module_version": "1.2.0",
          "state": {
            "_view_name": "LayoutView",
            "grid_template_rows": null,
            "right": null,
            "justify_content": null,
            "_view_module": "@jupyter-widgets/base",
            "overflow": null,
            "_model_module_version": "1.2.0",
            "_view_count": null,
            "flex_flow": null,
            "width": null,
            "min_width": null,
            "border": null,
            "align_items": null,
            "bottom": null,
            "_model_module": "@jupyter-widgets/base",
            "top": null,
            "grid_column": null,
            "overflow_y": null,
            "overflow_x": null,
            "grid_auto_flow": null,
            "grid_area": null,
            "grid_template_columns": null,
            "flex": null,
            "_model_name": "LayoutModel",
            "justify_items": null,
            "grid_row": null,
            "max_height": null,
            "align_content": null,
            "visibility": null,
            "align_self": null,
            "height": null,
            "min_height": null,
            "padding": null,
            "grid_auto_rows": null,
            "grid_gap": null,
            "max_width": null,
            "order": null,
            "_view_module_version": "1.2.0",
            "grid_template_areas": null,
            "object_position": null,
            "object_fit": null,
            "grid_auto_columns": null,
            "margin": null,
            "display": null,
            "left": null
          }
        },
        "421c51a1bf9d4be4ad8c445ad5c6fce8": {
          "model_module": "@jupyter-widgets/controls",
          "model_name": "FloatProgressModel",
          "model_module_version": "1.5.0",
          "state": {
            "_view_name": "ProgressView",
            "style": "IPY_MODEL_cc9eef35c7da4872bac60bd46110fa04",
            "_dom_classes": [],
            "description": "",
            "_model_name": "FloatProgressModel",
            "bar_style": "success",
            "max": 1721,
            "_view_module": "@jupyter-widgets/controls",
            "_model_module_version": "1.5.0",
            "value": 1721,
            "_view_count": null,
            "_view_module_version": "1.5.0",
            "orientation": "horizontal",
            "min": 0,
            "description_tooltip": null,
            "_model_module": "@jupyter-widgets/controls",
            "layout": "IPY_MODEL_98b0239d3c6c4c8ca82d0f7cb96734fe"
          }
        },
        "73e5ea94ed2c45f5b25d1281f66b59bf": {
          "model_module": "@jupyter-widgets/controls",
          "model_name": "HTMLModel",
          "model_module_version": "1.5.0",
          "state": {
            "_view_name": "HTMLView",
            "style": "IPY_MODEL_2dae3fd3baad438aa9436206e741ac38",
            "_dom_classes": [],
            "description": "",
            "_model_name": "HTMLModel",
            "placeholder": "​",
            "_view_module": "@jupyter-widgets/controls",
            "_model_module_version": "1.5.0",
            "value": " 1722/? [01:36&lt;00:00, 17.90it/s]",
            "_view_count": null,
            "_view_module_version": "1.5.0",
            "description_tooltip": null,
            "_model_module": "@jupyter-widgets/controls",
            "layout": "IPY_MODEL_af9922f672f54841b5acb1379534d1e5"
          }
        },
        "cc9eef35c7da4872bac60bd46110fa04": {
          "model_module": "@jupyter-widgets/controls",
          "model_name": "ProgressStyleModel",
          "model_module_version": "1.5.0",
          "state": {
            "_view_name": "StyleView",
            "_model_name": "ProgressStyleModel",
            "description_width": "initial",
            "_view_module": "@jupyter-widgets/base",
            "_model_module_version": "1.5.0",
            "_view_count": null,
            "_view_module_version": "1.2.0",
            "bar_color": null,
            "_model_module": "@jupyter-widgets/controls"
          }
        },
        "98b0239d3c6c4c8ca82d0f7cb96734fe": {
          "model_module": "@jupyter-widgets/base",
          "model_name": "LayoutModel",
          "model_module_version": "1.2.0",
          "state": {
            "_view_name": "LayoutView",
            "grid_template_rows": null,
            "right": null,
            "justify_content": null,
            "_view_module": "@jupyter-widgets/base",
            "overflow": null,
            "_model_module_version": "1.2.0",
            "_view_count": null,
            "flex_flow": null,
            "width": null,
            "min_width": null,
            "border": null,
            "align_items": null,
            "bottom": null,
            "_model_module": "@jupyter-widgets/base",
            "top": null,
            "grid_column": null,
            "overflow_y": null,
            "overflow_x": null,
            "grid_auto_flow": null,
            "grid_area": null,
            "grid_template_columns": null,
            "flex": null,
            "_model_name": "LayoutModel",
            "justify_items": null,
            "grid_row": null,
            "max_height": null,
            "align_content": null,
            "visibility": null,
            "align_self": null,
            "height": null,
            "min_height": null,
            "padding": null,
            "grid_auto_rows": null,
            "grid_gap": null,
            "max_width": null,
            "order": null,
            "_view_module_version": "1.2.0",
            "grid_template_areas": null,
            "object_position": null,
            "object_fit": null,
            "grid_auto_columns": null,
            "margin": null,
            "display": null,
            "left": null
          }
        },
        "2dae3fd3baad438aa9436206e741ac38": {
          "model_module": "@jupyter-widgets/controls",
          "model_name": "DescriptionStyleModel",
          "model_module_version": "1.5.0",
          "state": {
            "_view_name": "StyleView",
            "_model_name": "DescriptionStyleModel",
            "description_width": "",
            "_view_module": "@jupyter-widgets/base",
            "_model_module_version": "1.5.0",
            "_view_count": null,
            "_view_module_version": "1.2.0",
            "_model_module": "@jupyter-widgets/controls"
          }
        },
        "af9922f672f54841b5acb1379534d1e5": {
          "model_module": "@jupyter-widgets/base",
          "model_name": "LayoutModel",
          "model_module_version": "1.2.0",
          "state": {
            "_view_name": "LayoutView",
            "grid_template_rows": null,
            "right": null,
            "justify_content": null,
            "_view_module": "@jupyter-widgets/base",
            "overflow": null,
            "_model_module_version": "1.2.0",
            "_view_count": null,
            "flex_flow": null,
            "width": null,
            "min_width": null,
            "border": null,
            "align_items": null,
            "bottom": null,
            "_model_module": "@jupyter-widgets/base",
            "top": null,
            "grid_column": null,
            "overflow_y": null,
            "overflow_x": null,
            "grid_auto_flow": null,
            "grid_area": null,
            "grid_template_columns": null,
            "flex": null,
            "_model_name": "LayoutModel",
            "justify_items": null,
            "grid_row": null,
            "max_height": null,
            "align_content": null,
            "visibility": null,
            "align_self": null,
            "height": null,
            "min_height": null,
            "padding": null,
            "grid_auto_rows": null,
            "grid_gap": null,
            "max_width": null,
            "order": null,
            "_view_module_version": "1.2.0",
            "grid_template_areas": null,
            "object_position": null,
            "object_fit": null,
            "grid_auto_columns": null,
            "margin": null,
            "display": null,
            "left": null
          }
        }
      }
    },
    "accelerator": "GPU"
  },
  "cells": [
    {
      "cell_type": "markdown",
      "metadata": {
        "id": "9t75zdooZe8j"
      },
      "source": [
        "# Large scale text analysis with deep learning (3 points)\n",
        "\n",
        "Today we're gonna apply the newly learned tools for the task of predicting job salary.\n",
        "\n",
        "<img src=\"https://storage.googleapis.com/kaggle-competitions/kaggle/3342/media/salary%20prediction%20engine%20v2.png\" width=400px>\n",
        "\n",
        "_Special thanks to [Oleg Vasilev](https://github.com/Omrigan/) for the core assignment idea._"
      ]
    },
    {
      "cell_type": "code",
      "metadata": {
        "id": "YWS0E8OHZe8s"
      },
      "source": [
        "import numpy as np\n",
        "import pandas as pd\n",
        "import matplotlib.pyplot as plt\n",
        "%matplotlib inline"
      ],
      "execution_count": null,
      "outputs": []
    },
    {
      "cell_type": "markdown",
      "metadata": {
        "id": "JbjrfFspZe8s"
      },
      "source": [
        "### About the challenge\n",
        "For starters, let's download and unpack the data from [here]. \n",
        "\n",
        "You can also get it from [yadisk url](https://yadi.sk/d/vVEOWPFY3NruT7) the competition [page](https://www.kaggle.com/c/job-salary-prediction/data) (pick `Train_rev1.*`)."
      ]
    },
    {
      "cell_type": "code",
      "metadata": {
        "colab": {
          "base_uri": "https://localhost:8080/"
        },
        "id": "qsBw4DmiZe8t",
        "outputId": "e441fd46-3f1e-4833-e88e-b8df2e4f068d"
      },
      "source": [
        "!wget https://ysda-seminars.s3.eu-central-1.amazonaws.com/Train_rev1.zip\n",
        "!unzip Train_rev1.zip\n",
        "data = pd.read_csv(\"Train_rev1.csv\", index_col=None)\n",
        "data.shape"
      ],
      "execution_count": null,
      "outputs": [
        {
          "output_type": "stream",
          "text": [
            "--2021-06-23 12:38:34--  https://ysda-seminars.s3.eu-central-1.amazonaws.com/Train_rev1.zip\n",
            "Resolving ysda-seminars.s3.eu-central-1.amazonaws.com (ysda-seminars.s3.eu-central-1.amazonaws.com)... 52.219.171.66\n",
            "Connecting to ysda-seminars.s3.eu-central-1.amazonaws.com (ysda-seminars.s3.eu-central-1.amazonaws.com)|52.219.171.66|:443... connected.\n",
            "HTTP request sent, awaiting response... 200 OK\n",
            "Length: 128356352 (122M) [application/zip]\n",
            "Saving to: ‘Train_rev1.zip’\n",
            "\n",
            "Train_rev1.zip      100%[===================>] 122.41M  19.8MB/s    in 7.2s    \n",
            "\n",
            "2021-06-23 12:38:42 (16.9 MB/s) - ‘Train_rev1.zip’ saved [128356352/128356352]\n",
            "\n",
            "Archive:  Train_rev1.zip\n",
            "  inflating: Train_rev1.csv          \n"
          ],
          "name": "stdout"
        },
        {
          "output_type": "execute_result",
          "data": {
            "text/plain": [
              "(244768, 12)"
            ]
          },
          "metadata": {
            "tags": []
          },
          "execution_count": 5
        }
      ]
    },
    {
      "cell_type": "code",
      "metadata": {
        "colab": {
          "base_uri": "https://localhost:8080/",
          "height": 495
        },
        "id": "NaYFLUUsZe8u",
        "outputId": "8915d572-44b1-41d7-c658-fae0fc270530"
      },
      "source": [
        "data.head()"
      ],
      "execution_count": null,
      "outputs": [
        {
          "output_type": "execute_result",
          "data": {
            "text/html": [
              "<div>\n",
              "<style scoped>\n",
              "    .dataframe tbody tr th:only-of-type {\n",
              "        vertical-align: middle;\n",
              "    }\n",
              "\n",
              "    .dataframe tbody tr th {\n",
              "        vertical-align: top;\n",
              "    }\n",
              "\n",
              "    .dataframe thead th {\n",
              "        text-align: right;\n",
              "    }\n",
              "</style>\n",
              "<table border=\"1\" class=\"dataframe\">\n",
              "  <thead>\n",
              "    <tr style=\"text-align: right;\">\n",
              "      <th></th>\n",
              "      <th>Id</th>\n",
              "      <th>Title</th>\n",
              "      <th>FullDescription</th>\n",
              "      <th>LocationRaw</th>\n",
              "      <th>LocationNormalized</th>\n",
              "      <th>ContractType</th>\n",
              "      <th>ContractTime</th>\n",
              "      <th>Company</th>\n",
              "      <th>Category</th>\n",
              "      <th>SalaryRaw</th>\n",
              "      <th>SalaryNormalized</th>\n",
              "      <th>SourceName</th>\n",
              "    </tr>\n",
              "  </thead>\n",
              "  <tbody>\n",
              "    <tr>\n",
              "      <th>0</th>\n",
              "      <td>12612628</td>\n",
              "      <td>Engineering Systems Analyst</td>\n",
              "      <td>Engineering Systems Analyst Dorking Surrey Sal...</td>\n",
              "      <td>Dorking, Surrey, Surrey</td>\n",
              "      <td>Dorking</td>\n",
              "      <td>NaN</td>\n",
              "      <td>permanent</td>\n",
              "      <td>Gregory Martin International</td>\n",
              "      <td>Engineering Jobs</td>\n",
              "      <td>20000 - 30000/annum 20-30K</td>\n",
              "      <td>25000</td>\n",
              "      <td>cv-library.co.uk</td>\n",
              "    </tr>\n",
              "    <tr>\n",
              "      <th>1</th>\n",
              "      <td>12612830</td>\n",
              "      <td>Stress Engineer Glasgow</td>\n",
              "      <td>Stress Engineer Glasgow Salary **** to **** We...</td>\n",
              "      <td>Glasgow, Scotland, Scotland</td>\n",
              "      <td>Glasgow</td>\n",
              "      <td>NaN</td>\n",
              "      <td>permanent</td>\n",
              "      <td>Gregory Martin International</td>\n",
              "      <td>Engineering Jobs</td>\n",
              "      <td>25000 - 35000/annum 25-35K</td>\n",
              "      <td>30000</td>\n",
              "      <td>cv-library.co.uk</td>\n",
              "    </tr>\n",
              "    <tr>\n",
              "      <th>2</th>\n",
              "      <td>12612844</td>\n",
              "      <td>Modelling and simulation analyst</td>\n",
              "      <td>Mathematical Modeller / Simulation Analyst / O...</td>\n",
              "      <td>Hampshire, South East, South East</td>\n",
              "      <td>Hampshire</td>\n",
              "      <td>NaN</td>\n",
              "      <td>permanent</td>\n",
              "      <td>Gregory Martin International</td>\n",
              "      <td>Engineering Jobs</td>\n",
              "      <td>20000 - 40000/annum 20-40K</td>\n",
              "      <td>30000</td>\n",
              "      <td>cv-library.co.uk</td>\n",
              "    </tr>\n",
              "    <tr>\n",
              "      <th>3</th>\n",
              "      <td>12613049</td>\n",
              "      <td>Engineering Systems Analyst / Mathematical Mod...</td>\n",
              "      <td>Engineering Systems Analyst / Mathematical Mod...</td>\n",
              "      <td>Surrey, South East, South East</td>\n",
              "      <td>Surrey</td>\n",
              "      <td>NaN</td>\n",
              "      <td>permanent</td>\n",
              "      <td>Gregory Martin International</td>\n",
              "      <td>Engineering Jobs</td>\n",
              "      <td>25000 - 30000/annum 25K-30K negotiable</td>\n",
              "      <td>27500</td>\n",
              "      <td>cv-library.co.uk</td>\n",
              "    </tr>\n",
              "    <tr>\n",
              "      <th>4</th>\n",
              "      <td>12613647</td>\n",
              "      <td>Pioneer, Miser Engineering Systems Analyst</td>\n",
              "      <td>Pioneer, Miser  Engineering Systems Analyst Do...</td>\n",
              "      <td>Surrey, South East, South East</td>\n",
              "      <td>Surrey</td>\n",
              "      <td>NaN</td>\n",
              "      <td>permanent</td>\n",
              "      <td>Gregory Martin International</td>\n",
              "      <td>Engineering Jobs</td>\n",
              "      <td>20000 - 30000/annum 20-30K</td>\n",
              "      <td>25000</td>\n",
              "      <td>cv-library.co.uk</td>\n",
              "    </tr>\n",
              "  </tbody>\n",
              "</table>\n",
              "</div>"
            ],
            "text/plain": [
              "         Id  ...        SourceName\n",
              "0  12612628  ...  cv-library.co.uk\n",
              "1  12612830  ...  cv-library.co.uk\n",
              "2  12612844  ...  cv-library.co.uk\n",
              "3  12613049  ...  cv-library.co.uk\n",
              "4  12613647  ...  cv-library.co.uk\n",
              "\n",
              "[5 rows x 12 columns]"
            ]
          },
          "metadata": {
            "tags": []
          },
          "execution_count": 6
        }
      ]
    },
    {
      "cell_type": "markdown",
      "metadata": {
        "id": "GzN578PlZe8v"
      },
      "source": [
        "One problem with salary prediction is that it's oddly distributed: there are many people who are paid standard salaries and a few that get tons o money. The distribution is fat-tailed on the right side, which is inconvenient for MSE minimization.\n",
        "\n",
        "There are several techniques to combat this: using a different loss function, predicting log-target instead of raw target or even replacing targets with their percentiles among all salaries in the training set. We gonna use logarithm for now.\n",
        "\n",
        "_You can read more [in the official description](https://www.kaggle.com/c/job-salary-prediction#description)._"
      ]
    },
    {
      "cell_type": "code",
      "metadata": {
        "colab": {
          "base_uri": "https://localhost:8080/",
          "height": 265
        },
        "id": "7m4_nPD5Ze8v",
        "outputId": "500dc396-ee5e-4ca1-9ccd-ee92c7cb3ae6"
      },
      "source": [
        "data['Log1pSalary'] = np.log1p(data['SalaryNormalized']).astype('float32')\n",
        "\n",
        "plt.figure(figsize=[8, 4])\n",
        "plt.subplot(1, 2, 1)\n",
        "plt.hist(data[\"SalaryNormalized\"], bins=20);\n",
        "\n",
        "plt.subplot(1, 2, 2)\n",
        "plt.hist(data['Log1pSalary'], bins=20);"
      ],
      "execution_count": null,
      "outputs": [
        {
          "output_type": "display_data",
          "data": {
            "image/png": "[encoded data removed]",
            "text/plain": [
              "<Figure size 576x288 with 2 Axes>"
            ]
          },
          "metadata": {
            "tags": [],
            "needs_background": "light"
          }
        }
      ]
    },
    {
      "cell_type": "markdown",
      "metadata": {
        "id": "FQ4sxIXDZe8w"
      },
      "source": [
        "Our task is to predict one number, __Log1pSalary__.\n",
        "\n",
        "To do so, our model can access a number of features:\n",
        "* Free text: __`Title`__ and  __`FullDescription`__\n",
        "* Categorical: __`Category`__, __`Company`__, __`LocationNormalized`__, __`ContractType`__, and __`ContractTime`__."
      ]
    },
    {
      "cell_type": "code",
      "metadata": {
        "colab": {
          "base_uri": "https://localhost:8080/",
          "height": 348
        },
        "id": "6dYdc8PIZe8w",
        "outputId": "1660641f-adb1-4215-ba25-cc0c0b8c1023"
      },
      "source": [
        "text_columns = [\"Title\", \"FullDescription\"]\n",
        "categorical_columns = [\"Category\", \"Company\", \"LocationNormalized\", \"ContractType\", \"ContractTime\"]\n",
        "TARGET_COLUMN = \"Log1pSalary\"\n",
        "\n",
        "data[categorical_columns] = data[categorical_columns].fillna('NaN') # cast missing values to string \"NaN\"\n",
        "data[text_columns] = data[text_columns].fillna('NaN')\n",
        "\n",
        "data.sample(3)"
      ],
      "execution_count": null,
      "outputs": [
        {
          "output_type": "execute_result",
          "data": {
            "text/html": [
              "<div>\n",
              "<style scoped>\n",
              "    .dataframe tbody tr th:only-of-type {\n",
              "        vertical-align: middle;\n",
              "    }\n",
              "\n",
              "    .dataframe tbody tr th {\n",
              "        vertical-align: top;\n",
              "    }\n",
              "\n",
              "    .dataframe thead th {\n",
              "        text-align: right;\n",
              "    }\n",
              "</style>\n",
              "<table border=\"1\" class=\"dataframe\">\n",
              "  <thead>\n",
              "    <tr style=\"text-align: right;\">\n",
              "      <th></th>\n",
              "      <th>Id</th>\n",
              "      <th>Title</th>\n",
              "      <th>FullDescription</th>\n",
              "      <th>LocationRaw</th>\n",
              "      <th>LocationNormalized</th>\n",
              "      <th>ContractType</th>\n",
              "      <th>ContractTime</th>\n",
              "      <th>Company</th>\n",
              "      <th>Category</th>\n",
              "      <th>SalaryRaw</th>\n",
              "      <th>SalaryNormalized</th>\n",
              "      <th>SourceName</th>\n",
              "      <th>Log1pSalary</th>\n",
              "    </tr>\n",
              "  </thead>\n",
              "  <tbody>\n",
              "    <tr>\n",
              "      <th>46527</th>\n",
              "      <td>68565585</td>\n",
              "      <td>Junior Digital Designer</td>\n",
              "      <td>My client is a top 100 full service creative a...</td>\n",
              "      <td>City of London - London</td>\n",
              "      <td>The City</td>\n",
              "      <td>full_time</td>\n",
              "      <td>permanent</td>\n",
              "      <td>London4Jobs</td>\n",
              "      <td>Other/General Jobs</td>\n",
              "      <td>20000-25000</td>\n",
              "      <td>22500</td>\n",
              "      <td>london4jobs.co.uk</td>\n",
              "      <td>10.021315</td>\n",
              "    </tr>\n",
              "    <tr>\n",
              "      <th>58983</th>\n",
              "      <td>68689655</td>\n",
              "      <td>Dog Groomer / Stylist  Bangor NI</td>\n",
              "      <td>Dog Grooming Stylist  Bangor NI This is a fant...</td>\n",
              "      <td>Bangor, County Down County Down Northern Ireland</td>\n",
              "      <td>UK</td>\n",
              "      <td>NaN</td>\n",
              "      <td>permanent</td>\n",
              "      <td>PETS AT HOME GROUP LIMITED</td>\n",
              "      <td>Retail Jobs</td>\n",
              "      <td>6.81 - 7.63 per hour</td>\n",
              "      <td>13862</td>\n",
              "      <td>totaljobs.com</td>\n",
              "      <td>9.536979</td>\n",
              "    </tr>\n",
              "    <tr>\n",
              "      <th>121330</th>\n",
              "      <td>69932370</td>\n",
              "      <td>Year 3 Teacher  Maternity Cover  February 2013...</td>\n",
              "      <td>Year **** Teacher  End of February  Maternity ...</td>\n",
              "      <td>Southwark, London</td>\n",
              "      <td>Southwark</td>\n",
              "      <td>NaN</td>\n",
              "      <td>contract</td>\n",
              "      <td>Prospero Teaching</td>\n",
              "      <td>Teaching Jobs</td>\n",
              "      <td>30000 - 31000/annum</td>\n",
              "      <td>30500</td>\n",
              "      <td>cv-library.co.uk</td>\n",
              "      <td>10.325515</td>\n",
              "    </tr>\n",
              "  </tbody>\n",
              "</table>\n",
              "</div>"
            ],
            "text/plain": [
              "              Id  ... Log1pSalary\n",
              "46527   68565585  ...   10.021315\n",
              "58983   68689655  ...    9.536979\n",
              "121330  69932370  ...   10.325515\n",
              "\n",
              "[3 rows x 13 columns]"
            ]
          },
          "metadata": {
            "tags": []
          },
          "execution_count": 8
        }
      ]
    },
    {
      "cell_type": "markdown",
      "metadata": {
        "id": "sJGyz6vgZe8w"
      },
      "source": [
        "### Preprocessing text data\n",
        "\n",
        "Just like last week, applying NLP to a problem begins from tokenization: splitting raw text into sequences of tokens (words, punctuation, etc).\n",
        "\n",
        "__Your task__ is to lowercase and tokenize all texts under `Title` and `FullDescription` columns. Store the tokenized data as a __space-separated__ string of tokens for performance reasons.\n",
        "\n",
        "It's okay to use nltk tokenizers. Assertions were designed for WordPunctTokenizer, slight deviations are okay."
      ]
    },
    {
      "cell_type": "code",
      "metadata": {
        "scrolled": true,
        "colab": {
          "base_uri": "https://localhost:8080/"
        },
        "id": "djOwAHFHZe8w",
        "outputId": "0fd7d361-66be-474e-9d4c-b6378937bc36"
      },
      "source": [
        "print(\"Raw text:\")\n",
        "print(data[\"FullDescription\"][2::100000])"
      ],
      "execution_count": null,
      "outputs": [
        {
          "output_type": "stream",
          "text": [
            "Raw text:\n",
            "2         Mathematical Modeller / Simulation Analyst / O...\n",
            "100002    A successful and high achieving specialist sch...\n",
            "200002    Web Designer  HTML, CSS, JavaScript, Photoshop...\n",
            "Name: FullDescription, dtype: object\n"
          ],
          "name": "stdout"
        }
      ]
    },
    {
      "cell_type": "code",
      "metadata": {
        "id": "pNGh27ebZe8x"
      },
      "source": [
        "import nltk\n",
        "#TODO YOUR CODE HERE\n",
        "\n",
        "tokenizer = nltk.tokenize.WordPunctTokenizer()\n",
        "# YOUR CODE HERE\n",
        "\n",
        "data[text_columns] = data[text_columns].applymap(lambda x: \" \".join(tokenizer.tokenize(x.lower())))"
      ],
      "execution_count": null,
      "outputs": []
    },
    {
      "cell_type": "markdown",
      "metadata": {
        "id": "HSSSLCO1Ze8x"
      },
      "source": [
        "Now we can assume that our text is a space-separated list of tokens:"
      ]
    },
    {
      "cell_type": "code",
      "metadata": {
        "colab": {
          "base_uri": "https://localhost:8080/"
        },
        "id": "iWpQuVt7Ze8x",
        "outputId": "33d24fe4-abd1-46dc-ef33-b77dba376912"
      },
      "source": [
        "print(\"Tokenized:\")\n",
        "print(data[\"FullDescription\"][2::100000])\n",
        "assert data[\"FullDescription\"][2][:50] == 'mathematical modeller / simulation analyst / opera'\n",
        "assert data[\"Title\"][54321] == 'international digital account manager ( german )'"
      ],
      "execution_count": null,
      "outputs": [
        {
          "output_type": "stream",
          "text": [
            "Tokenized:\n",
            "2         mathematical modeller / simulation analyst / o...\n",
            "100002    a successful and high achieving specialist sch...\n",
            "200002    web designer html , css , javascript , photosh...\n",
            "Name: FullDescription, dtype: object\n"
          ],
          "name": "stdout"
        }
      ]
    },
    {
      "cell_type": "markdown",
      "metadata": {
        "id": "2OeLTODAZe8x"
      },
      "source": [
        "Not all words are equally useful. Some of them are typos or rare words that are only present a few times. \n",
        "\n",
        "Let's count how many times is each word present in the data so that we can build a \"white list\" of known words."
      ]
    },
    {
      "cell_type": "code",
      "metadata": {
        "id": "bVN-jztCZe8x"
      },
      "source": [
        "from collections import Counter\n",
        "token_counts = Counter()\n",
        "# Count how many times does each token occur in both \"Title\" and \"FullDescription\" in total\n",
        "#TODO <YOUR CODE>\n",
        "\n",
        "for col in text_columns:\n",
        "    for line in data[col].values:\n",
        "        token_counts.update(line.split(\" \"))"
      ],
      "execution_count": null,
      "outputs": []
    },
    {
      "cell_type": "code",
      "metadata": {
        "colab": {
          "base_uri": "https://localhost:8080/"
        },
        "id": "b-40HetcZe8y",
        "outputId": "2247cf66-4dba-4344-943b-bc87482043b7"
      },
      "source": [
        "  print(\"Total unique tokens :\", len(token_counts))\n",
        "print('\\n'.join(map(str, token_counts.most_common(n=5))))\n",
        "print('...')\n",
        "print('\\n'.join(map(str, token_counts.most_common()[-3:])))\n",
        "\n",
        "assert token_counts.most_common(1)[0][1] in  range(2600000, 2700000)\n",
        "assert len(token_counts) in range(200000, 210000)\n",
        "print('Correct!')"
      ],
      "execution_count": null,
      "outputs": [
        {
          "output_type": "stream",
          "text": [
            "Total unique tokens : 202704\n",
            "('and', 2657388)\n",
            "('.', 2523216)\n",
            "(',', 2318606)\n",
            "('the', 2080994)\n",
            "('to', 2019884)\n",
            "...\n",
            "('stephanietraveltraderecruitmnt', 1)\n",
            "('ruabon', 1)\n",
            "('lowehays', 1)\n",
            "Correct!\n"
          ],
          "name": "stdout"
        }
      ]
    },
    {
      "cell_type": "code",
      "metadata": {
        "id": "GNCP31cKZe8y",
        "colab": {
          "base_uri": "https://localhost:8080/",
          "height": 279
        },
        "outputId": "47ec110e-6336-4510-8076-4b96853d89a9"
      },
      "source": [
        "# Let's see how many words are there for each count\n",
        "plt.hist(list(token_counts.values()), range=[0, 10**4], bins=50, log=True)\n",
        "plt.xlabel(\"Word counts\");"
      ],
      "execution_count": null,
      "outputs": [
        {
          "output_type": "display_data",
          "data": {
            "image/png": "[encoded data removed]",
            "text/plain": [
              "<Figure size 432x288 with 1 Axes>"
            ]
          },
          "metadata": {
            "tags": [],
            "needs_background": "light"
          }
        }
      ]
    },
    {
      "cell_type": "markdown",
      "metadata": {
        "id": "cIWo0dm5Ze8y"
      },
      "source": [
        "__Task 1.1__ Get a list of all tokens that occur at least 10 times."
      ]
    },
    {
      "cell_type": "code",
      "metadata": {
        "id": "iUB3KExsZe8y"
      },
      "source": [
        "min_count = 10\n",
        "\n",
        "# tokens from token_counts keys that had at least min_count occurrences throughout the dataset\n",
        "#TODO <YOUR CODE>\n",
        "tokens = sorted(t for t, c in token_counts.items() if c >= min_count)\n",
        "\n",
        "# Add a special tokens for unknown and empty words\n",
        "UNK, PAD = \"UNK\", \"PAD\"\n",
        "tokens = [UNK, PAD] + tokens"
      ],
      "execution_count": null,
      "outputs": []
    },
    {
      "cell_type": "code",
      "metadata": {
        "colab": {
          "base_uri": "https://localhost:8080/"
        },
        "id": "kqDMQVGyZe8y",
        "outputId": "0b24fbe4-afb8-4b82-af42-48bbd2775f9a"
      },
      "source": [
        "print(\"Vocabulary size:\", len(tokens))\n",
        "assert type(tokens) == list\n",
        "assert len(tokens) in range(32000, 35000)\n",
        "assert 'me' in tokens\n",
        "assert UNK in tokens\n",
        "print(\"Correct!\")"
      ],
      "execution_count": null,
      "outputs": [
        {
          "output_type": "stream",
          "text": [
            "Vocabulary size: 34158\n",
            "Correct!\n"
          ],
          "name": "stdout"
        }
      ]
    },
    {
      "cell_type": "markdown",
      "metadata": {
        "id": "Z8JGwF9VZe8z"
      },
      "source": [
        "__Task 1.2__ Build an inverse token index: a dictionary from token(string) to it's index in `tokens` (int)"
      ]
    },
    {
      "cell_type": "code",
      "metadata": {
        "id": "XcrdkC_RZe8z"
      },
      "source": [
        "# TODO <YOUR CODE>\n",
        "token_to_id = {t: i for i, t in enumerate(tokens)}"
      ],
      "execution_count": null,
      "outputs": []
    },
    {
      "cell_type": "code",
      "metadata": {
        "colab": {
          "base_uri": "https://localhost:8080/"
        },
        "id": "MrfWfH7MZe8z",
        "outputId": "1e0f9607-694e-400b-91a0-eaf671dbd912"
      },
      "source": [
        "assert isinstance(token_to_id, dict)\n",
        "assert len(token_to_id) == len(tokens)\n",
        "for tok in tokens:\n",
        "    assert tokens[token_to_id[tok]] == tok\n",
        "\n",
        "print(\"Correct!\")"
      ],
      "execution_count": null,
      "outputs": [
        {
          "output_type": "stream",
          "text": [
            "Correct!\n"
          ],
          "name": "stdout"
        }
      ]
    },
    {
      "cell_type": "markdown",
      "metadata": {
        "id": "wYj9cyTXZe8z"
      },
      "source": [
        "And finally, let's use the vocabulary you've built to map text lines into neural network-digestible matrices."
      ]
    },
    {
      "cell_type": "code",
      "metadata": {
        "id": "ExQNSGMrZe8z"
      },
      "source": [
        "UNK_IX, PAD_IX = map(token_to_id.get, [UNK, PAD])\n",
        "\n",
        "def as_matrix(sequences, max_len=None):\n",
        "    \"\"\" Convert a list of tokens into a matrix with padding \"\"\"\n",
        "    if isinstance(sequences[0], str):\n",
        "        sequences = list(map(str.split, sequences))\n",
        "        \n",
        "    max_len = min(max(map(len, sequences)), max_len or float('inf'))\n",
        "    \n",
        "    matrix = np.full((len(sequences), max_len), np.int32(PAD_IX))\n",
        "    for i,seq in enumerate(sequences):\n",
        "        row_ix = [token_to_id.get(word, UNK_IX) for word in seq[:max_len]]\n",
        "        matrix[i, :len(row_ix)] = row_ix\n",
        "    \n",
        "    return matrix"
      ],
      "execution_count": null,
      "outputs": []
    },
    {
      "cell_type": "code",
      "metadata": {
        "colab": {
          "base_uri": "https://localhost:8080/"
        },
        "id": "5bd1OxoyZe80",
        "outputId": "725f51df-76bd-4758-f176-6da347d8d021"
      },
      "source": [
        "print(\"Lines:\")\n",
        "print('\\n'.join(data[\"Title\"][::100000].values), end='\\n\\n')\n",
        "print(\"Matrix:\")\n",
        "print(as_matrix(data[\"Title\"][::100000]))"
      ],
      "execution_count": null,
      "outputs": [
        {
          "output_type": "stream",
          "text": [
            "Lines:\n",
            "engineering systems analyst\n",
            "hr assistant\n",
            "senior ec & i engineer\n",
            "\n",
            "Matrix:\n",
            "[[10807 30161  2166     1     1]\n",
            " [15020  2844     1     1     1]\n",
            " [27645 10201    16 15215 10804]]\n"
          ],
          "name": "stdout"
        }
      ]
    },
    {
      "cell_type": "markdown",
      "metadata": {
        "id": "DsXCKzrUZe80"
      },
      "source": [
        "Now let's  encode the categirical data we have.\n",
        "\n",
        "As usual, we shall use one-hot encoding for simplicity. Kudos if you implement more advanced encodings: tf-idf, pseudo-time-series, etc."
      ]
    },
    {
      "cell_type": "code",
      "metadata": {
        "colab": {
          "base_uri": "https://localhost:8080/"
        },
        "id": "cr-qdrh3Ze81",
        "outputId": "4d64bcee-2d36-4b76-c317-d44759dce874"
      },
      "source": [
        "from sklearn.feature_extraction import DictVectorizer\n",
        "\n",
        "# we only consider top-1k most frequent companies to minimize memory usage\n",
        "top_companies, top_counts = zip(*Counter(data['Company']).most_common(1000))\n",
        "recognized_companies = set(top_companies)\n",
        "data[\"Company\"] = data[\"Company\"].apply(lambda comp: comp if comp in recognized_companies else \"Other\")\n",
        "\n",
        "categorical_vectorizer = DictVectorizer(dtype=np.float32, sparse=False)\n",
        "categorical_vectorizer.fit(data[categorical_columns].apply(dict, axis=1))"
      ],
      "execution_count": null,
      "outputs": [
        {
          "output_type": "execute_result",
          "data": {
            "text/plain": [
              "DictVectorizer(dtype=<class 'numpy.float32'>, separator='=', sort=True,\n",
              "               sparse=False)"
            ]
          },
          "metadata": {
            "tags": []
          },
          "execution_count": 21
        }
      ]
    },
    {
      "cell_type": "markdown",
      "metadata": {
        "id": "mJDgbkHZZe81"
      },
      "source": [
        "### The deep learning part\n",
        "\n",
        "Once we've learned to tokenize the data, let's design a machine learning experiment.\n",
        "\n",
        "As before, we won't focus too much on validation, opting for a simple train-test split.\n",
        "\n",
        "__To be completely rigorous,__ we've comitted a small crime here: we used the whole data for tokenization and vocabulary building. A more strict way would be to do that part on training set only. You may want to do that and measure the magnitude of changes."
      ]
    },
    {
      "cell_type": "code",
      "metadata": {
        "colab": {
          "base_uri": "https://localhost:8080/"
        },
        "id": "3sURw9HXZe81",
        "outputId": "39c9d1dc-07f4-4ab3-d5a8-2663b7e0ff6f"
      },
      "source": [
        "from sklearn.model_selection import train_test_split\n",
        "\n",
        "data_train, data_val = train_test_split(data, test_size=0.1, random_state=77)\n",
        "data_train.index = range(len(data_train))\n",
        "data_val.index = range(len(data_val))\n",
        "\n",
        "print(\"Train size = \", len(data_train))\n",
        "print(\"Validation size = \", len(data_val))"
      ],
      "execution_count": null,
      "outputs": [
        {
          "output_type": "stream",
          "text": [
            "Train size =  220291\n",
            "Validation size =  24477\n"
          ],
          "name": "stdout"
        }
      ]
    },
    {
      "cell_type": "code",
      "metadata": {
        "id": "Il8wpyN1Ze81"
      },
      "source": [
        "import torch\n",
        "\n",
        "def to_tensors(batch, device):\n",
        "    batch_tensors = dict()\n",
        "    for key, arr in batch.items():\n",
        "        if key in [\"FullDescription\", \"Title\"]:\n",
        "            batch_tensors[key] = torch.tensor(arr, device=device, dtype=torch.int64)\n",
        "        else:\n",
        "            batch_tensors[key] = torch.tensor(arr, device=device)\n",
        "    return batch_tensors\n",
        "\n",
        "def make_batch(data, max_len=None, word_dropout=0, device=torch.device('cpu')):\n",
        "    \"\"\"\n",
        "    Creates a keras-friendly dict from the batch data.\n",
        "    :param word_dropout: replaces token index with UNK_IX with this probability\n",
        "    :returns: a dict with {'title' : int64[batch, title_max_len]\n",
        "    \"\"\"\n",
        "    batch = {}\n",
        "    batch[\"Title\"] = as_matrix(data[\"Title\"].values, max_len)\n",
        "    batch[\"FullDescription\"] = as_matrix(data[\"FullDescription\"].values, max_len)\n",
        "    batch['Categorical'] = categorical_vectorizer.transform(data[categorical_columns].apply(dict, axis=1))\n",
        "    \n",
        "    if word_dropout != 0:\n",
        "        batch[\"FullDescription\"] = apply_word_dropout(batch[\"FullDescription\"], 1. - word_dropout)\n",
        "    \n",
        "    if TARGET_COLUMN in data.columns:\n",
        "        batch[TARGET_COLUMN] = data[TARGET_COLUMN].values\n",
        "    \n",
        "    return to_tensors(batch, device)\n",
        "\n",
        "def apply_word_dropout(matrix, keep_prop, replace_with=UNK_IX, pad_ix=PAD_IX,):\n",
        "    dropout_mask = np.random.choice(2, np.shape(matrix), p=[keep_prop, 1 - keep_prop])\n",
        "    dropout_mask &= matrix != pad_ix\n",
        "    return np.choose(dropout_mask, [matrix, np.full_like(matrix, replace_with)])"
      ],
      "execution_count": null,
      "outputs": []
    },
    {
      "cell_type": "code",
      "metadata": {
        "scrolled": true,
        "colab": {
          "base_uri": "https://localhost:8080/"
        },
        "id": "dRKoBF_gZe82",
        "outputId": "aadc0cf5-8e62-4008-a968-e7e0b26bb085"
      },
      "source": [
        "make_batch(data_train[:3], max_len=10)"
      ],
      "execution_count": null,
      "outputs": [
        {
          "output_type": "execute_result",
          "data": {
            "text/plain": [
              "{'Categorical': tensor([[0., 0., 0.,  ..., 0., 0., 0.],\n",
              "         [0., 0., 0.,  ..., 0., 0., 0.],\n",
              "         [0., 0., 0.,  ..., 0., 0., 0.]]),\n",
              " 'FullDescription': tensor([[32937, 31100, 33664, 12587,   982, 17753, 11192,  1693,   943,  8110],\n",
              "         [ 2572, 33996,   982, 13650,   158, 33554,   982,   437, 22021,    82],\n",
              "         [33996, 33435, 30323, 33554,  3002, 20893, 11312,   158,  7151, 31100]]),\n",
              " 'Log1pSalary': tensor([10.5967,  9.5325, 10.4631]),\n",
              " 'Title': tensor([[27645, 26986,  1587,   197, 11192,  1700],\n",
              "         [27280, 13650, 30409,  2844,     1,     1],\n",
              "         [ 4986,  9083, 18864,     1,     1,     1]])}"
            ]
          },
          "metadata": {
            "tags": []
          },
          "execution_count": 24
        }
      ]
    },
    {
      "cell_type": "markdown",
      "metadata": {
        "id": "J8f9-Y01Ze82"
      },
      "source": [
        "#### Architecture\n",
        "\n",
        "Our basic model consists of three branches:\n",
        "* Title encoder\n",
        "* Description encoder\n",
        "* Categorical features encoder\n",
        "\n",
        "We will then feed all 3 branches into one common network that predicts salary.\n",
        "\n",
        "![scheme](https://github.com/yandexdataschool/nlp_course/raw/master/resources/w2_conv_arch.png)"
      ]
    },
    {
      "cell_type": "markdown",
      "metadata": {
        "id": "x-zT-Hu_Ze82"
      },
      "source": [
        "This clearly doesn't fit into keras' __Sequential__ interface. To build such a network, one will have to use PyTorch."
      ]
    },
    {
      "cell_type": "code",
      "metadata": {
        "id": "obkMJ46pZe83"
      },
      "source": [
        "import torch\n",
        "import torch.nn as nn\n",
        "import torch.functional as F"
      ],
      "execution_count": null,
      "outputs": []
    },
    {
      "cell_type": "code",
      "metadata": {
        "id": "F4LgLJtEZe83"
      },
      "source": [
        "class SalaryPredictor(nn.Module):\n",
        "    def __init__(self, n_tokens=len(tokens), n_cat_features=len(categorical_vectorizer.vocabulary_), hid_size=8):\n",
        "        super().__init__()\n",
        "        self.embedder = nn.Embedding(n_tokens, hid_size)\n",
        "        self.title_encoder = nn.Sequential(\n",
        "            nn.Conv1d(hid_size, hid_size, kernel_size=2),\n",
        "            nn.Dropout(p=0.25),\n",
        "            nn.ReLU(),\n",
        "            nn.AdaptiveMaxPool1d(output_size=1)\n",
        "        )\n",
        "        self.description_encoder = nn.Sequential(\n",
        "            nn.Conv1d(hid_size, hid_size, kernel_size=2),\n",
        "            nn.Dropout(p=0.25),\n",
        "            nn.ReLU(),\n",
        "            nn.AdaptiveMaxPool1d(output_size=1)\n",
        "        )\n",
        "        self.categorical_encoder = nn.Sequential(\n",
        "            nn.Linear(n_cat_features, hid_size * 2),\n",
        "            nn.ReLU(),\n",
        "            nn.Linear(hid_size * 2, hid_size * 2),\n",
        "            nn.ReLU()\n",
        "        )\n",
        "        self.final_predictor = nn.Sequential(\n",
        "            nn.Linear(hid_size * 4, hid_size),\n",
        "            nn.ReLU(),\n",
        "            nn.Linear(hid_size, 1)\n",
        "        )\n",
        "        #  YOUR CODE HERE\n",
        "\n",
        "        \n",
        "    def forward(self, batch):\n",
        "        # YOUR CODE HERE\n",
        "        title_embeddings = self.embedder(batch['Title']).permute(0, 2, 1)\n",
        "        title_features = self.title_encoder(title_embeddings).squeeze()\n",
        "\n",
        "        description_embeddings = self.embedder(batch['FullDescription']).permute(0, 2, 1)\n",
        "        description_features = self.description_encoder(description_embeddings).squeeze()\n",
        "\n",
        "        categorical_features = self.categorical_encoder(batch['Categorical'])\n",
        "\n",
        "        features = torch.cat(\n",
        "            [title_features, description_features, categorical_features], dim=1)\n",
        "        \n",
        "        return self.final_predictor(features).squeeze()"
      ],
      "execution_count": null,
      "outputs": []
    },
    {
      "cell_type": "code",
      "metadata": {
        "id": "o8WvtlOUZe83"
      },
      "source": [
        "model = SalaryPredictor()"
      ],
      "execution_count": null,
      "outputs": []
    },
    {
      "cell_type": "code",
      "metadata": {
        "id": "JBS7PlCrZe83"
      },
      "source": [
        "model = SalaryPredictor()\n",
        "batch = make_batch(data_train[:100])\n",
        "criterion = nn.MSELoss()\n",
        "\n",
        "dummy_pred = model(batch)\n",
        "dummy_loss = criterion(dummy_pred, batch[TARGET_COLUMN])\n",
        "assert dummy_pred.shape == torch.Size([100])\n",
        "assert len(np.unique(dummy_pred.detach().numpy())) > 20, \"model returns suspiciously few unique outputs. Check your initialization\"\n",
        "assert dummy_loss.ndim == 0 and 0. <= dummy_loss <= 250., \"make sure you minimize MSE\""
      ],
      "execution_count": null,
      "outputs": []
    },
    {
      "cell_type": "markdown",
      "metadata": {
        "id": "WmImJv70Ze83"
      },
      "source": [
        "#### Training and evaluation\n",
        "\n",
        "As usual, we gonna feed our monster with random minibatches of data. \n",
        "\n",
        "As we train, we want to monitor not only loss function, which is computed in log-space, but also the actual error measured in dollars."
      ]
    },
    {
      "cell_type": "code",
      "metadata": {
        "id": "lBwOV5duZe84"
      },
      "source": [
        "def iterate_minibatches(data, batch_size=256, shuffle=True, cycle=False, **kwargs):\n",
        "    \"\"\" iterates minibatches of data in random order \"\"\"\n",
        "    while True:\n",
        "        indices = np.arange(len(data))\n",
        "        if shuffle:\n",
        "            indices = np.random.permutation(indices)\n",
        "\n",
        "        for start in range(0, len(indices), batch_size):\n",
        "            batch = make_batch(data.iloc[indices[start : start + batch_size]], **kwargs)\n",
        "            yield batch\n",
        "        \n",
        "        if not cycle: break"
      ],
      "execution_count": null,
      "outputs": []
    },
    {
      "cell_type": "markdown",
      "metadata": {
        "id": "H7ExfuFkZe84"
      },
      "source": [
        "### Model training\n",
        "\n",
        "We can now fit our model the usual minibatch way. The interesting part is that we train on an infinite stream of minibatches, produced by `iterate_minibatches` function."
      ]
    },
    {
      "cell_type": "code",
      "metadata": {
        "id": "qNW1PL0mZe84"
      },
      "source": [
        "import tqdm\n",
        "\n",
        "BATCH_SIZE = 128\n",
        "EPOCHS = 3\n",
        "DEVICE = torch.device('cuda')"
      ],
      "execution_count": null,
      "outputs": []
    },
    {
      "cell_type": "code",
      "metadata": {
        "id": "Bsu0gequZe84"
      },
      "source": [
        "def print_metrics(model, data, batch_size=BATCH_SIZE, name=\"\", **kw):\n",
        "    squared_error = abs_error = num_samples = 0.0\n",
        "    model.eval()\n",
        "    with torch.no_grad():\n",
        "        for batch in iterate_minibatches(data, batch_size=batch_size, shuffle=False, **kw):\n",
        "            batch_pred = model(batch)\n",
        "            squared_error += torch.mean(torch.square(batch_pred - batch[TARGET_COLUMN]))\n",
        "            abs_error += torch.mean(torch.abs(batch_pred - batch[TARGET_COLUMN]))\n",
        "            num_samples += len(batch)\n",
        "    mse = squared_error.detach().cpu().numpy() / num_samples\n",
        "    mae = abs_error.detach().cpu().numpy() / num_samples\n",
        "    print(\"%s results:\" % (name or \"\"))\n",
        "    print(\"Mean square error: %.5f\" % mse)\n",
        "    print(\"Mean absolute error: %.5f\" % mae)\n",
        "    return mse, mae"
      ],
      "execution_count": null,
      "outputs": []
    },
    {
      "cell_type": "code",
      "metadata": {
        "colab": {
          "base_uri": "https://localhost:8080/",
          "height": 1000,
          "referenced_widgets": [
            "3a34a95aa682439fbce7c40ac232bfa3",
            "30902776c0564143a69d7b6ebf0fe9b9",
            "b5308c327f5c4395852638002e93312a",
            "1c6445766414415e99ac32fb94686dca",
            "7b79ef9602d041acada88a1e3e75fa7f",
            "df3fe642b3184ce89286cd052f047cbd",
            "d32c4d65bc164e30aca844c670363ae3",
            "995b4b20bd094ab4b5a3d2027c45fdca",
            "6505bbb46d7f4ffa9794fde8861cd8fb",
            "03bbe0d4b0524a85be49a1b119aaa66a",
            "0f5b3da7508f461595456f1316465dae",
            "b6d38ddc1e4948c9b98a6d79c18cd5a5",
            "b2b39e59a46a4338bc75afd376e69931",
            "b680fa64dc604e6d94697242310428e9",
            "4722c85bb02b4291a90e6402d86397fa",
            "c34336639978471f8e0f6aa78e1955ff",
            "a2b99faed0f54678811698f312ed80a4",
            "df9c2a9f3fe04519853a361700e3c056",
            "421c51a1bf9d4be4ad8c445ad5c6fce8",
            "73e5ea94ed2c45f5b25d1281f66b59bf",
            "cc9eef35c7da4872bac60bd46110fa04",
            "98b0239d3c6c4c8ca82d0f7cb96734fe",
            "2dae3fd3baad438aa9436206e741ac38",
            "af9922f672f54841b5acb1379534d1e5"
          ]
        },
        "id": "guTdyDx1Ze84",
        "outputId": "e5686c5f-efba-4a6e-f161-4672ddaf92f8"
      },
      "source": [
        "model = SalaryPredictor().to(DEVICE)\n",
        "criterion = nn.MSELoss(reduction='mean')\n",
        "optimizer = torch.optim.Adam(model.parameters(), lr=1e-3)\n",
        "\n",
        "for epoch in range(EPOCHS):\n",
        "    print(f\"epoch: {epoch}\")\n",
        "    for i, batch in tqdm.notebook.tqdm(enumerate(\n",
        "            iterate_minibatches(\n",
        "                    data_train, \n",
        "                    batch_size=BATCH_SIZE, \n",
        "                    device=DEVICE)), \n",
        "                total=len(data_train) // BATCH_SIZE\n",
        "        ):\n",
        "        model.train()\n",
        "        pred = model(batch)\n",
        "        optimizer.zero_grad()\n",
        "        loss = criterion(pred, batch[TARGET_COLUMN])\n",
        "        loss.backward()\n",
        "        optimizer.step()\n",
        "\n",
        "        if i % 100 == 99:\n",
        "            print('train_loss', loss.item())\n",
        "            print_metrics(model, data_val, name='val', batch_size=BATCH_SIZE, device=DEVICE)"
      ],
      "execution_count": null,
      "outputs": [
        {
          "output_type": "stream",
          "text": [
            "epoch: 0\n"
          ],
          "name": "stdout"
        },
        {
          "output_type": "display_data",
          "data": {
            "application/vnd.jupyter.widget-view+json": {
              "model_id": "3a34a95aa682439fbce7c40ac232bfa3",
              "version_minor": 0,
              "version_major": 2
            },
            "text/plain": [
              "HBox(children=(FloatProgress(value=0.0, max=1721.0), HTML(value='')))"
            ]
          },
          "metadata": {
            "tags": []
          }
        },
        {
          "output_type": "stream",
          "text": [
            "train_loss 26.197002410888672\n",
            "val results:\n",
            "Mean square error: 8.48276\n",
            "Mean absolute error: 1.45071\n",
            "train_loss 0.40117454528808594\n",
            "val results:\n",
            "Mean square error: 0.69682\n",
            "Mean absolute error: 0.39256\n",
            "train_loss 0.3452449440956116\n",
            "val results:\n",
            "Mean square error: 0.67894\n",
            "Mean absolute error: 0.39091\n",
            "train_loss 0.28515714406967163\n",
            "val results:\n",
            "Mean square error: 0.66930\n",
            "Mean absolute error: 0.39104\n",
            "train_loss 0.36979207396507263\n",
            "val results:\n",
            "Mean square error: 0.62426\n",
            "Mean absolute error: 0.37802\n",
            "train_loss 0.3009045422077179\n",
            "val results:\n",
            "Mean square error: 0.62235\n",
            "Mean absolute error: 0.37833\n",
            "train_loss 0.23152077198028564\n",
            "val results:\n",
            "Mean square error: 0.61011\n",
            "Mean absolute error: 0.37503\n",
            "train_loss 0.20554903149604797\n",
            "val results:\n",
            "Mean square error: 0.60277\n",
            "Mean absolute error: 0.37322\n",
            "train_loss 0.21513283252716064\n",
            "val results:\n",
            "Mean square error: 0.57492\n",
            "Mean absolute error: 0.36432\n",
            "train_loss 0.16407127678394318\n",
            "val results:\n",
            "Mean square error: 0.54098\n",
            "Mean absolute error: 0.35295\n",
            "train_loss 0.1370779126882553\n",
            "val results:\n",
            "Mean square error: 0.53671\n",
            "Mean absolute error: 0.35184\n",
            "train_loss 0.22260968387126923\n",
            "val results:\n",
            "Mean square error: 0.53331\n",
            "Mean absolute error: 0.35098\n",
            "train_loss 0.19908350706100464\n",
            "val results:\n",
            "Mean square error: 0.51986\n",
            "Mean absolute error: 0.34650\n",
            "train_loss 0.1904970109462738\n",
            "val results:\n",
            "Mean square error: 0.49684\n",
            "Mean absolute error: 0.33843\n",
            "train_loss 0.17135216295719147\n",
            "val results:\n",
            "Mean square error: 0.47446\n",
            "Mean absolute error: 0.33035\n",
            "train_loss 0.18062683939933777\n",
            "val results:\n",
            "Mean square error: 0.46892\n",
            "Mean absolute error: 0.32851\n",
            "train_loss 0.1803702861070633\n",
            "val results:\n",
            "Mean square error: 0.46956\n",
            "Mean absolute error: 0.32898\n",
            "\n",
            "epoch: 1\n"
          ],
          "name": "stdout"
        },
        {
          "output_type": "display_data",
          "data": {
            "application/vnd.jupyter.widget-view+json": {
              "model_id": "6505bbb46d7f4ffa9794fde8861cd8fb",
              "version_minor": 0,
              "version_major": 2
            },
            "text/plain": [
              "HBox(children=(FloatProgress(value=0.0, max=1721.0), HTML(value='')))"
            ]
          },
          "metadata": {
            "tags": []
          }
        },
        {
          "output_type": "stream",
          "text": [
            "train_loss 0.1728135645389557\n",
            "val results:\n",
            "Mean square error: 0.47920\n",
            "Mean absolute error: 0.33278\n",
            "train_loss 0.1484062224626541\n",
            "val results:\n",
            "Mean square error: 0.45096\n",
            "Mean absolute error: 0.32229\n",
            "train_loss 0.17164155840873718\n",
            "val results:\n",
            "Mean square error: 0.43711\n",
            "Mean absolute error: 0.31712\n",
            "train_loss 0.11324059963226318\n",
            "val results:\n",
            "Mean square error: 0.43585\n",
            "Mean absolute error: 0.31681\n",
            "train_loss 0.14180175960063934\n",
            "val results:\n",
            "Mean square error: 0.39073\n",
            "Mean absolute error: 0.29864\n",
            "train_loss 0.1930825412273407\n",
            "val results:\n",
            "Mean square error: 0.42482\n",
            "Mean absolute error: 0.31278\n",
            "train_loss 0.15011435747146606\n",
            "val results:\n",
            "Mean square error: 0.41704\n",
            "Mean absolute error: 0.30985\n",
            "train_loss 0.14837628602981567\n",
            "val results:\n",
            "Mean square error: 0.41024\n",
            "Mean absolute error: 0.30724\n",
            "train_loss 0.11506886780261993\n",
            "val results:\n",
            "Mean square error: 0.37895\n",
            "Mean absolute error: 0.29440\n",
            "train_loss 0.1574387550354004\n",
            "val results:\n",
            "Mean square error: 0.33873\n",
            "Mean absolute error: 0.27708\n",
            "train_loss 0.1299491822719574\n",
            "val results:\n",
            "Mean square error: 0.35294\n",
            "Mean absolute error: 0.28343\n",
            "train_loss 0.17326197028160095\n",
            "val results:\n",
            "Mean square error: 0.33145\n",
            "Mean absolute error: 0.27403\n",
            "train_loss 0.16053476929664612\n",
            "val results:\n",
            "Mean square error: 0.35638\n",
            "Mean absolute error: 0.28525\n",
            "train_loss 0.12140218168497086\n",
            "val results:\n",
            "Mean square error: 0.34075\n",
            "Mean absolute error: 0.27845\n",
            "train_loss 0.1284645050764084\n",
            "val results:\n",
            "Mean square error: 0.33301\n",
            "Mean absolute error: 0.27505\n",
            "train_loss 0.1147085651755333\n",
            "val results:\n",
            "Mean square error: 0.31793\n",
            "Mean absolute error: 0.26833\n",
            "train_loss 0.10156276077032089\n",
            "val results:\n",
            "Mean square error: 0.34623\n",
            "Mean absolute error: 0.28122\n",
            "\n",
            "epoch: 2\n"
          ],
          "name": "stdout"
        },
        {
          "output_type": "display_data",
          "data": {
            "application/vnd.jupyter.widget-view+json": {
              "model_id": "a2b99faed0f54678811698f312ed80a4",
              "version_minor": 0,
              "version_major": 2
            },
            "text/plain": [
              "HBox(children=(FloatProgress(value=0.0, max=1721.0), HTML(value='')))"
            ]
          },
          "metadata": {
            "tags": []
          }
        },
        {
          "output_type": "stream",
          "text": [
            "train_loss 0.08948399871587753\n",
            "val results:\n",
            "Mean square error: 0.29451\n",
            "Mean absolute error: 0.25746\n",
            "train_loss 0.09767648577690125\n",
            "val results:\n",
            "Mean square error: 0.31542\n",
            "Mean absolute error: 0.26748\n",
            "train_loss 0.1501418650150299\n",
            "val results:\n",
            "Mean square error: 0.26368\n",
            "Mean absolute error: 0.24232\n",
            "train_loss 0.1326969712972641\n",
            "val results:\n",
            "Mean square error: 0.28599\n",
            "Mean absolute error: 0.25350\n",
            "train_loss 0.09131850302219391\n",
            "val results:\n",
            "Mean square error: 0.28842\n",
            "Mean absolute error: 0.25492\n",
            "train_loss 0.12338709831237793\n",
            "val results:\n",
            "Mean square error: 0.27692\n",
            "Mean absolute error: 0.24924\n",
            "train_loss 0.11289384961128235\n",
            "val results:\n",
            "Mean square error: 0.27544\n",
            "Mean absolute error: 0.24861\n",
            "train_loss 0.11484284698963165\n",
            "val results:\n",
            "Mean square error: 0.28040\n",
            "Mean absolute error: 0.25106\n",
            "train_loss 0.13442140817642212\n",
            "val results:\n",
            "Mean square error: 0.27744\n",
            "Mean absolute error: 0.24977\n",
            "train_loss 0.10768495500087738\n",
            "val results:\n",
            "Mean square error: 0.24361\n",
            "Mean absolute error: 0.23245\n",
            "train_loss 0.13215236365795135\n",
            "val results:\n",
            "Mean square error: 0.24825\n",
            "Mean absolute error: 0.23501\n",
            "train_loss 0.07159259915351868\n",
            "val results:\n",
            "Mean square error: 0.27331\n",
            "Mean absolute error: 0.24799\n",
            "train_loss 0.14545518159866333\n",
            "val results:\n",
            "Mean square error: 0.24101\n",
            "Mean absolute error: 0.23136\n",
            "train_loss 0.1202392578125\n",
            "val results:\n",
            "Mean square error: 0.23418\n",
            "Mean absolute error: 0.22772\n",
            "train_loss 0.11487971246242523\n",
            "val results:\n",
            "Mean square error: 0.23217\n",
            "Mean absolute error: 0.22671\n",
            "train_loss 0.1413474678993225\n",
            "val results:\n",
            "Mean square error: 0.22596\n",
            "Mean absolute error: 0.22337\n",
            "train_loss 0.11656217277050018\n",
            "val results:\n",
            "Mean square error: 0.22399\n",
            "Mean absolute error: 0.22237\n",
            "\n"
          ],
          "name": "stdout"
        }
      ]
    }
  ]
}